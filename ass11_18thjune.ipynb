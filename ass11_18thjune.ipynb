{
  "nbformat": 4,
  "nbformat_minor": 0,
  "metadata": {
    "colab": {
      "provenance": []
    },
    "kernelspec": {
      "name": "python3",
      "display_name": "Python 3"
    },
    "language_info": {
      "name": "python"
    }
  },
  "cells": [
    {
      "cell_type": "code",
      "execution_count": 3,
      "metadata": {
        "colab": {
          "base_uri": "https://localhost:8080/",
          "height": 36
        },
        "id": "dRKgQkw6CMxB",
        "outputId": "42079bb3-d8ca-4a74-93e2-25f794791c79"
      },
      "outputs": [
        {
          "output_type": "execute_result",
          "data": {
            "text/plain": [
              "\"\\n1. What is the role of the 'else' block in a try-except statement? Provide an example\\nscenario where it would be useful.\\n\""
            ],
            "application/vnd.google.colaboratory.intrinsic+json": {
              "type": "string"
            }
          },
          "metadata": {},
          "execution_count": 3
        }
      ],
      "source": [
        "\"\"\"\n",
        "1. What is the role of the 'else' block in a try-except statement? Provide an example\n",
        "scenario where it would be useful.\n",
        "\"\"\""
      ]
    },
    {
      "cell_type": "code",
      "source": [
        "\"\"\"\n",
        "The 'else' block in a try-except statement is optional and provides a block of code that is executed if no exceptions are raised within the 'try' block.\n",
        " It allows you to specify a set of statements to be executed when the 'try' block completes successfully without any exceptions being raised.\n",
        "\"\"\""
      ],
      "metadata": {
        "colab": {
          "base_uri": "https://localhost:8080/",
          "height": 53
        },
        "id": "nUj1JhQzCpni",
        "outputId": "a10ba118-60a0-4d87-8e68-d5529bdc57d7"
      },
      "execution_count": 4,
      "outputs": [
        {
          "output_type": "execute_result",
          "data": {
            "text/plain": [
              "\"\\nThe 'else' block in a try-except statement is optional and provides a block of code that is executed if no exceptions are raised within the 'try' block.\\n It allows you to specify a set of statements to be executed when the 'try' block completes successfully without any exceptions being raised.\\n\""
            ],
            "application/vnd.google.colaboratory.intrinsic+json": {
              "type": "string"
            }
          },
          "metadata": {},
          "execution_count": 4
        }
      ]
    },
    {
      "cell_type": "code",
      "source": [
        "\"\"\"\n",
        "2. Can a try-except block be nested inside another try-except block? Explain with an\n",
        "example.\n",
        "\"\"\""
      ],
      "metadata": {
        "colab": {
          "base_uri": "https://localhost:8080/",
          "height": 36
        },
        "id": "VAYaGR9hcTlL",
        "outputId": "0a3cf5e5-330b-4f3c-dc0f-d6ea99bf292f"
      },
      "execution_count": 5,
      "outputs": [
        {
          "output_type": "execute_result",
          "data": {
            "text/plain": [
              "'\\n2. Can a try-except block be nested inside another try-except block? Explain with an\\nexample.\\n'"
            ],
            "application/vnd.google.colaboratory.intrinsic+json": {
              "type": "string"
            }
          },
          "metadata": {},
          "execution_count": 5
        }
      ]
    },
    {
      "cell_type": "code",
      "source": [
        "\"\"\"\n",
        "Yes, a try-except block can be nested inside another try-except block. This is known as nested exception handling. It allows for handling exceptions\n",
        "at different levels of code, providing more fine-grained control over error handling.\n",
        "\"\"\"\n",
        "def divide_numbers(a, b):\n",
        "    try:\n",
        "        try:\n",
        "            result = a / b\n",
        "        except ZeroDivisionError:\n",
        "            print(\"Error: Cannot divide by zero!\")\n",
        "    except TypeError:\n",
        "        print(\"Error: Invalid operand types!\")\n",
        "\n",
        "# Example usage:\n",
        "divide_numbers(10, 2)\n",
        "divide_numbers(10, 0)\n",
        "divide_numbers(10, \"2\")\n",
        "\n",
        "\"\"\"\n",
        "In this example, the nested try-except blocks allow for different levels of error handling. The inner try-except block handles a specific\n",
        "exception related to zero division, while the outer try-except block handles a different exception related to invalid operand types. This\n",
        "enables more specific and targeted exception handling based on the context and type of error encountered.\n",
        "\"\"\"\n"
      ],
      "metadata": {
        "colab": {
          "base_uri": "https://localhost:8080/",
          "height": 105
        },
        "id": "e5zCNIPacdHS",
        "outputId": "c2fe047c-451f-4ddc-8868-55edd29b9578"
      },
      "execution_count": 7,
      "outputs": [
        {
          "output_type": "stream",
          "name": "stdout",
          "text": [
            "Error: Cannot divide by zero!\n",
            "Error: Invalid operand types!\n"
          ]
        },
        {
          "output_type": "execute_result",
          "data": {
            "text/plain": [
              "'\\nIn this example, the nested try-except blocks allow for different levels of error handling. The inner try-except block handles a specific\\nexception related to zero division, while the outer try-except block handles a different exception related to invalid operand types. This \\nenables more specific and targeted exception handling based on the context and type of error encountered.\\n'"
            ],
            "application/vnd.google.colaboratory.intrinsic+json": {
              "type": "string"
            }
          },
          "metadata": {},
          "execution_count": 7
        }
      ]
    },
    {
      "cell_type": "code",
      "source": [
        "\"\"\"\n",
        "3. How can you create a custom exception class in Python? Provide an example that\n",
        "demonstrates its usage.\n",
        "\"\"\""
      ],
      "metadata": {
        "colab": {
          "base_uri": "https://localhost:8080/",
          "height": 36
        },
        "id": "_1FhOPkOej9D",
        "outputId": "268b9d3e-ffdf-4f5c-8eff-a58aefa78e8c"
      },
      "execution_count": 8,
      "outputs": [
        {
          "output_type": "execute_result",
          "data": {
            "text/plain": [
              "'\\n3. How can you create a custom exception class in Python? Provide an example that\\ndemonstrates its usage.\\n'"
            ],
            "application/vnd.google.colaboratory.intrinsic+json": {
              "type": "string"
            }
          },
          "metadata": {},
          "execution_count": 8
        }
      ]
    },
    {
      "cell_type": "code",
      "source": [
        "\"\"\"\n",
        "a custom exception class by defining a new class that inherits from the built-in Exception class or any of its subclasses.\n",
        "This allows you to create your own exception types with custom behaviors and error messages.\n",
        "\"\"\"\n",
        "class InvalidInputError(Exception):\n",
        "    def __init__(self, input_value):\n",
        "        self.input_value = input_value\n",
        "\n",
        "    def __str__(self):\n",
        "        return f\"InvalidInputError: Invalid input value '{self.input_value}'\"\n",
        "\n",
        "def process_input(input_value):\n",
        "    if not input_value.isdigit():\n",
        "        raise InvalidInputError(input_value)\n",
        "    # Process the input further...\n",
        "\n",
        "# Example usage:\n",
        "try:\n",
        "    input_value = input(\"Enter a numeric value: \")\n",
        "    process_input(input_value)\n",
        "    print(\"Input processing successful!\")\n",
        "except InvalidInputError as e:\n",
        "    print(\"Error occurred:\", str(e))\n",
        "\n",
        "\"\"\"\n",
        "By creating a custom exception class, i can define my own exception types to represent specific error conditions or situations in my code.\n",
        "This allows me to handle those exceptions differently or provide more detailed error messages based on the specific exception type.\n",
        "\"\"\"\n"
      ],
      "metadata": {
        "colab": {
          "base_uri": "https://localhost:8080/",
          "height": 88
        },
        "id": "4J7z__uWe10J",
        "outputId": "f0742969-2106-433a-bb75-d6c389fad3e7"
      },
      "execution_count": 11,
      "outputs": [
        {
          "output_type": "stream",
          "name": "stdout",
          "text": [
            "Enter a numeric value: 4\n",
            "Input processing successful!\n"
          ]
        },
        {
          "output_type": "execute_result",
          "data": {
            "text/plain": [
              "'\\nBy creating a custom exception class, i can define my own exception types to represent specific error conditions or situations in my code. \\nThis allows me to handle those exceptions differently or provide more detailed error messages based on the specific exception type.\\n'"
            ],
            "application/vnd.google.colaboratory.intrinsic+json": {
              "type": "string"
            }
          },
          "metadata": {},
          "execution_count": 11
        }
      ]
    },
    {
      "cell_type": "code",
      "source": [
        "\"\"\"\n",
        "4. What are some common exceptions that are built-in to Python?\n",
        "\"\"\""
      ],
      "metadata": {
        "colab": {
          "base_uri": "https://localhost:8080/",
          "height": 36
        },
        "id": "f5jf51yzhSIg",
        "outputId": "0d01d44e-42da-43c0-a091-38b57a52e30d"
      },
      "execution_count": 12,
      "outputs": [
        {
          "output_type": "execute_result",
          "data": {
            "text/plain": [
              "'\\n4. What are some common exceptions that are built-in to Python?\\n'"
            ],
            "application/vnd.google.colaboratory.intrinsic+json": {
              "type": "string"
            }
          },
          "metadata": {},
          "execution_count": 12
        }
      ]
    },
    {
      "cell_type": "code",
      "source": [
        "\"\"\"\n",
        " the commonly used built-in exceptions in Python:\n",
        " 1.SyntaxError\n",
        " 2.TypeError\n",
        " 3.NameError\n",
        " 4.IndexError\n",
        " 5.ValueError\n",
        " 6.KeyError\n",
        " 7.ZeroDivisionError\n",
        " 8.FileNotFoundError\n",
        " 9.IOError\n",
        " 10.AssertionError\n",
        " 11.OverflowError\n",
        " 12.ImportError\n",
        " \"\"\"\n",
        "\n",
        "\n",
        "\n",
        "\n",
        "\n",
        "\n",
        "\n",
        "\n",
        "\n",
        "\n",
        "\n"
      ],
      "metadata": {
        "colab": {
          "base_uri": "https://localhost:8080/",
          "height": 53
        },
        "id": "0uhis4fDiMw8",
        "outputId": "90f580e9-eda3-4ccd-c3c0-ad75de35e791"
      },
      "execution_count": 13,
      "outputs": [
        {
          "output_type": "execute_result",
          "data": {
            "text/plain": [
              "'\\n the commonly used built-in exceptions in Python:\\n 1.SyntaxError\\n 2.TypeError\\n 3.NameError\\n 4.IndexError\\n 5.ValueError\\n 6.KeyError\\n 7.ZeroDivisionError\\n 8.FileNotFoundError\\n 9.IOError\\n 10.AssertionError\\n 11.OverflowError\\n 12.ImportError\\n '"
            ],
            "application/vnd.google.colaboratory.intrinsic+json": {
              "type": "string"
            }
          },
          "metadata": {},
          "execution_count": 13
        }
      ]
    },
    {
      "cell_type": "code",
      "source": [
        "\"\"\"\n",
        "5. What is logging in Python, and why is it important in software development?\n",
        "\"\"\""
      ],
      "metadata": {
        "colab": {
          "base_uri": "https://localhost:8080/",
          "height": 36
        },
        "id": "s1-GlSRWi0U3",
        "outputId": "5c37ebdf-eca8-43d8-b13e-2aa986a0cd39"
      },
      "execution_count": 14,
      "outputs": [
        {
          "output_type": "execute_result",
          "data": {
            "text/plain": [
              "'\\n5. What is logging in Python, and why is it important in software development?\\n'"
            ],
            "application/vnd.google.colaboratory.intrinsic+json": {
              "type": "string"
            }
          },
          "metadata": {},
          "execution_count": 14
        }
      ]
    },
    {
      "cell_type": "code",
      "source": [
        "\"\"\"\n",
        "Logging in Python refers to the process of recording log messages during the execution of a program. It involves capturing relevant information about the program's behavior, events, errors, and other important details. The logging module in Python provides a flexible framework for generating log messages that can be used for debugging, monitoring, and analysis purposes.\n",
        "\n",
        "Logging is important in software development for several reasons:\n",
        "\n",
        "1.Debugging: Logging helps in identifying and debugging issues in a program.\n",
        "\n",
        "2.Error Tracking: Logging allows developers to capture and record error information.\n",
        "\n",
        "3.Monitoring and Analysis: Logs provide valuable insights into the runtime behavior of a program.\n",
        "\n",
        "4.Auditing and Compliance: Logging is crucial for auditing purposes and compliance with industry regulations.\n",
        "\n",
        "5.Communication and Collaboration: Logging allows different stakeholders, including developers, system administrators, and support teams,\n",
        " to communicate and collaborate effectively. Log messages provide a common language and a shared understanding of the program's behavior,\n",
        " facilitating troubleshooting and issue resolution.\n",
        "\n",
        "6.Historical Record: Logging creates a historical record of events and activities within a program. This record can be invaluable\n",
        "for post-mortem analysis, retrospective reviews, and identifying patterns or trends over time.\n",
        "\n",
        "Overall, logging plays a crucial role in software development by providing a means to capture, store, and analyze relevant\n",
        " information about a program's execution. It helps developers in understanding program behavior, diagnosing issues, and\n",
        " improving the overall quality, reliability, and maintainability of software systems.\n",
        "\"\"\""
      ],
      "metadata": {
        "colab": {
          "base_uri": "https://localhost:8080/",
          "height": 123
        },
        "id": "2EKCla7ci54H",
        "outputId": "9e41c2a4-cfc0-40e7-8220-d75f5f706c8f"
      },
      "execution_count": 15,
      "outputs": [
        {
          "output_type": "execute_result",
          "data": {
            "text/plain": [
              "\"\\nLogging in Python refers to the process of recording log messages during the execution of a program. It involves capturing relevant information about the program's behavior, events, errors, and other important details. The logging module in Python provides a flexible framework for generating log messages that can be used for debugging, monitoring, and analysis purposes.\\n\\nLogging is important in software development for several reasons:\\n\\n1.Debugging: Logging helps in identifying and debugging issues in a program. \\n\\n2.Error Tracking: Logging allows developers to capture and record error information.\\n\\n3.Monitoring and Analysis: Logs provide valuable insights into the runtime behavior of a program. \\n\\n4.Auditing and Compliance: Logging is crucial for auditing purposes and compliance with industry regulations. \\n\\n5.Communication and Collaboration: Logging allows different stakeholders, including developers, system administrators, and support teams,\\n to communicate and collaborate effectively. Log messages provide a common language and a shared understanding of the program's behavior,\\n facilitating troubleshooting and issue resolution.\\n\\n6.Historical Record: Logging creates a historical record of events and activities within a program. This record can be invaluable \\nfor post-mortem analysis, retrospective reviews, and identifying patterns or trends over time.\\n\\nOverall, logging plays a crucial role in software development by providing a means to capture, store, and analyze relevant\\n information about a program's execution. It helps developers in understanding program behavior, diagnosing issues, and \\n improving the overall quality, reliability, and maintainability of software systems.\\n\""
            ],
            "application/vnd.google.colaboratory.intrinsic+json": {
              "type": "string"
            }
          },
          "metadata": {},
          "execution_count": 15
        }
      ]
    },
    {
      "cell_type": "code",
      "source": [
        "\"\"\"\n",
        "6. Explain the purpose of log levels in Python logging and provide examples of when\n",
        "each log level would be appropriate.\n",
        "\"\"\""
      ],
      "metadata": {
        "colab": {
          "base_uri": "https://localhost:8080/",
          "height": 36
        },
        "id": "UKxXG6sqmY9H",
        "outputId": "8fde4e5a-11a6-4542-b85d-ac88b7b74149"
      },
      "execution_count": 16,
      "outputs": [
        {
          "output_type": "execute_result",
          "data": {
            "text/plain": [
              "'\\n6. Explain the purpose of log levels in Python logging and provide examples of when\\neach log level would be appropriate.\\n'"
            ],
            "application/vnd.google.colaboratory.intrinsic+json": {
              "type": "string"
            }
          },
          "metadata": {},
          "execution_count": 16
        }
      ]
    },
    {
      "cell_type": "code",
      "source": [
        "\"\"\"\n",
        "Log levels in Python logging provide a way to categorize and prioritize log messages based on their severity or importance. Python's logging module defines\n",
        " several standard log levels that can be used to control the verbosity and filtering of log messages. The common log levels, in increasing order of severity,\n",
        "  are:\n",
        "1.DEBUG: This is the lowest log level used for detailed debugging information.\n",
        "2.INFO: This level is used for general information about the program's execution.\n",
        "3.WARNING: Warnings indicate potential issues or unusual circumstances that are not necessarily errors but may require attention.\n",
        "4.ERROR: Errors represent actual errors or exceptions that occur during the program's execution.\n",
        "5.CRITICAL: Critical log level represents the highest severity level. It is used for very severe errors or failures that may cause the program to abort\n",
        " or result in a catastrophic failure.\n",
        "\n",
        "\"\"\""
      ],
      "metadata": {
        "colab": {
          "base_uri": "https://localhost:8080/",
          "height": 122
        },
        "id": "qOldQR6omgVd",
        "outputId": "b2d9d9fa-3e12-4220-feeb-00cddc23df3e"
      },
      "execution_count": 18,
      "outputs": [
        {
          "output_type": "execute_result",
          "data": {
            "text/plain": [
              "\"\\nLog levels in Python logging provide a way to categorize and prioritize log messages based on their severity or importance. Python's logging module defines\\n several standard log levels that can be used to control the verbosity and filtering of log messages. The common log levels, in increasing order of severity,\\n  are:\\n1.DEBUG: This is the lowest log level used for detailed debugging information.\\n2.INFO: This level is used for general information about the program's execution.\\n3.WARNING: Warnings indicate potential issues or unusual circumstances that are not necessarily errors but may require attention.\\n4.ERROR: Errors represent actual errors or exceptions that occur during the program's execution. \\n5.CRITICAL: Critical log level represents the highest severity level. It is used for very severe errors or failures that may cause the program to abort\\n or result in a catastrophic failure.\\n\\n\""
            ],
            "application/vnd.google.colaboratory.intrinsic+json": {
              "type": "string"
            }
          },
          "metadata": {},
          "execution_count": 18
        }
      ]
    },
    {
      "cell_type": "code",
      "source": [
        "\"\"\"\n",
        "7. What are log formatters in Python logging, and how can you customise the log\n",
        "message format using formatters?\n",
        "\"\"\""
      ],
      "metadata": {
        "colab": {
          "base_uri": "https://localhost:8080/",
          "height": 36
        },
        "id": "Zh41ASjMqMZN",
        "outputId": "c90a90af-b613-4cfa-aee0-54fc838f0d41"
      },
      "execution_count": 19,
      "outputs": [
        {
          "output_type": "execute_result",
          "data": {
            "text/plain": [
              "'\\n7. What are log formatters in Python logging, and how can you customise the log\\nmessage format using formatters?\\n'"
            ],
            "application/vnd.google.colaboratory.intrinsic+json": {
              "type": "string"
            }
          },
          "metadata": {},
          "execution_count": 19
        }
      ]
    },
    {
      "cell_type": "code",
      "source": [
        "\"\"\"\n",
        "Log formatters in Python logging are responsible for defining the structure and content of log messages. They provide a way to customize the format of log records, allowing developers to specify what information should be included in the log output, such as timestamps, log levels, module names, and custom message formats.\n",
        "\n",
        "Python's logging module provides the Formatter class, which serves as the base class for log formatters. It offers various placeholders or\n",
        "formatting directives that can be used to represent different pieces of information within the log message.\n",
        "\"\"\"\n",
        "#Here's an example of how to customize the log message format using formatters:\n",
        "import logging\n",
        "\n",
        "# Create a logger\n",
        "logger = logging.getLogger(\"my_logger\")\n",
        "logger.setLevel(logging.DEBUG)\n",
        "\n",
        "# Create a formatter\n",
        "formatter = logging.Formatter(\"%(asctime)s - %(levelname)s - %(message)s\")\n",
        "\n",
        "# Create a handler and set the formatter\n",
        "handler = logging.StreamHandler()\n",
        "handler.setFormatter(formatter)\n",
        "\n",
        "# Add the handler to the logger\n",
        "logger.addHandler(handler)\n",
        "\n",
        "# Log messages\n",
        "logger.debug(\"This is a debug message\")\n",
        "logger.info(\"This is an info message\")\n",
        "logger.warning(\"This is a warning message\")\n",
        "logger.error(\"This is an error message\")\n",
        "logger.critical(\"This is a critical message\")\n",
        "\n",
        "\n",
        "'''\n",
        "By customizing the log message format using formatters, developers can tailor the output to their specific requirements, including timestamps,\n",
        "log levels, contextual information, and additional details. This flexibility allows for better readability, integration with log management\n",
        "systems, and consistency in log formatting across different parts of an application or across different modules.\n",
        "'''\n"
      ],
      "metadata": {
        "colab": {
          "base_uri": "https://localhost:8080/",
          "height": 331
        },
        "id": "OqnLSIOqqZL9",
        "outputId": "19858cd9-e235-4fb2-e714-053b99048f94"
      },
      "execution_count": 21,
      "outputs": [
        {
          "output_type": "stream",
          "name": "stderr",
          "text": [
            "2023-06-30 19:10:19,033 - DEBUG - This is a debug message\n",
            "2023-06-30 19:10:19,033 - DEBUG - This is a debug message\n",
            "DEBUG:my_logger:This is a debug message\n",
            "2023-06-30 19:10:19,041 - INFO - This is an info message\n",
            "2023-06-30 19:10:19,041 - INFO - This is an info message\n",
            "INFO:my_logger:This is an info message\n",
            "2023-06-30 19:10:19,047 - WARNING - This is a warning message\n",
            "2023-06-30 19:10:19,047 - WARNING - This is a warning message\n",
            "WARNING:my_logger:This is a warning message\n",
            "2023-06-30 19:10:19,053 - ERROR - This is an error message\n",
            "2023-06-30 19:10:19,053 - ERROR - This is an error message\n",
            "ERROR:my_logger:This is an error message\n",
            "2023-06-30 19:10:19,059 - CRITICAL - This is a critical message\n",
            "2023-06-30 19:10:19,059 - CRITICAL - This is a critical message\n",
            "CRITICAL:my_logger:This is a critical message\n"
          ]
        },
        {
          "output_type": "execute_result",
          "data": {
            "text/plain": [
              "'\\nBy customizing the log message format using formatters, developers can tailor the output to their specific requirements, including timestamps, \\nlog levels, contextual information, and additional details. This flexibility allows for better readability, integration with log management \\nsystems, and consistency in log formatting across different parts of an application or across different modules.\\n'"
            ],
            "application/vnd.google.colaboratory.intrinsic+json": {
              "type": "string"
            }
          },
          "metadata": {},
          "execution_count": 21
        }
      ]
    },
    {
      "cell_type": "code",
      "source": [
        "\"\"\"\n",
        "8. How can you set up logging to capture log messages from multiple modules or\n",
        "classes in a Python application?\n",
        "\"\"\""
      ],
      "metadata": {
        "colab": {
          "base_uri": "https://localhost:8080/",
          "height": 36
        },
        "id": "axdZWDa2tlHa",
        "outputId": "43eedabc-6c00-4719-a4e4-d3ade4c955bf"
      },
      "execution_count": 22,
      "outputs": [
        {
          "output_type": "execute_result",
          "data": {
            "text/plain": [
              "'\\n8. How can you set up logging to capture log messages from multiple modules or\\nclasses in a Python application?\\n'"
            ],
            "application/vnd.google.colaboratory.intrinsic+json": {
              "type": "string"
            }
          },
          "metadata": {},
          "execution_count": 22
        }
      ]
    },
    {
      "cell_type": "code",
      "source": [
        "\"\"\"\n",
        "To capture log messages from multiple modules or classes in a Python application, you can set up logging with the following steps:\n",
        "\n",
        "1.Import the logging module:\n",
        "\n",
        "\n",
        "import logging\n",
        "\n",
        "2.Configure the root logger:\n",
        "\n",
        "\n",
        "logging.basicConfig(level=logging.DEBUG)\n",
        "This sets the root logger to the DEBUG level, which captures log messages of all levels. You can adjust the level based on your specific needs.\n",
        "\n",
        "3.Create a logger for each module or class:\n",
        "\n",
        "\n",
        "logger = logging.getLogger(__name__)\n",
        "In each module or class, create a logger using the getLogger() method from the logging module. Pass __name__ as the name of the logger. This ensures that each logger is associated with the specific module or class it is defined in.\n",
        "\n",
        "4.Log messages using the logger:\n",
        "\n",
        "\n",
        "logger.debug(\"This is a debug message\")\n",
        "logger.info(\"This is an info message\")\n",
        "logger.warning(\"This is a warning message\")\n",
        "logger.error(\"This is an error message\")\n",
        "logger.critical(\"This is a critical message\")\n",
        "\"\"\"\n"
      ],
      "metadata": {
        "colab": {
          "base_uri": "https://localhost:8080/",
          "height": 122
        },
        "id": "4qBtGHXrt0BM",
        "outputId": "eb4fabd3-0bc0-41d9-ae2e-d81eade7ff2b"
      },
      "execution_count": 23,
      "outputs": [
        {
          "output_type": "execute_result",
          "data": {
            "text/plain": [
              "'\\nTo capture log messages from multiple modules or classes in a Python application, you can set up logging with the following steps:\\n\\n1.Import the logging module:\\n\\n\\nimport logging\\n\\n2.Configure the root logger:\\n\\n\\nlogging.basicConfig(level=logging.DEBUG)\\nThis sets the root logger to the DEBUG level, which captures log messages of all levels. You can adjust the level based on your specific needs.\\n\\n3.Create a logger for each module or class:\\n\\n\\nlogger = logging.getLogger(__name__)\\nIn each module or class, create a logger using the getLogger() method from the logging module. Pass __name__ as the name of the logger. This ensures that each logger is associated with the specific module or class it is defined in.\\n\\n4.Log messages using the logger:\\n\\n\\nlogger.debug(\"This is a debug message\")\\nlogger.info(\"This is an info message\")\\nlogger.warning(\"This is a warning message\")\\nlogger.error(\"This is an error message\")\\nlogger.critical(\"This is a critical message\")\\n'"
            ],
            "application/vnd.google.colaboratory.intrinsic+json": {
              "type": "string"
            }
          },
          "metadata": {},
          "execution_count": 23
        }
      ]
    },
    {
      "cell_type": "code",
      "source": [
        "\"\"\"\n",
        "9. What is the difference between the logging and print statements in Python? When\n",
        "should you use logging over print statements in a real-world application?\n",
        "\"\"\""
      ],
      "metadata": {
        "colab": {
          "base_uri": "https://localhost:8080/",
          "height": 36
        },
        "id": "a0pmSbpcufn7",
        "outputId": "72fb28bc-e8db-4c60-f557-3cbc6da0aa82"
      },
      "execution_count": 24,
      "outputs": [
        {
          "output_type": "execute_result",
          "data": {
            "text/plain": [
              "'\\n9. What is the difference between the logging and print statements in Python? When\\nshould you use logging over print statements in a real-world application?\\n'"
            ],
            "application/vnd.google.colaboratory.intrinsic+json": {
              "type": "string"
            }
          },
          "metadata": {},
          "execution_count": 24
        }
      ]
    },
    {
      "cell_type": "code",
      "source": [
        "\"\"\"\n",
        "The main differences between logging and print statements in Python are:\n",
        "\n",
        "1.Purpose: print is primarily used for immediate console output, while logging is used for generating structured log messages for debugging, monitoring, and analysis.\n",
        "\n",
        "2.Level of Detail: print provides ad-hoc information, while logging allows for categorized log levels (e.g., DEBUG, INFO, WARNING, ERROR, CRITICAL) to\n",
        "prioritize and filter log messages based on severity.\n",
        "\n",
        "3.Control and Configuration: print lacks configurability, while logging offers extensive control over log formatting, destination, filtering, and\n",
        " redirection without modifying the code.\n",
        "\n",
        "4.Production Readiness: Logging is suitable for real-world applications due to its professionalism, standardization, and scalability.\n",
        " print statements are not recommended for production environments.\n",
        "\"\"\""
      ],
      "metadata": {
        "colab": {
          "base_uri": "https://localhost:8080/",
          "height": 105
        },
        "id": "N31nlkRSumIc",
        "outputId": "37cd1941-f45e-4df5-e17f-e6e12fa5a53f"
      },
      "execution_count": 25,
      "outputs": [
        {
          "output_type": "execute_result",
          "data": {
            "text/plain": [
              "'\\nThe main differences between logging and print statements in Python are:\\n\\n1.Purpose: print is primarily used for immediate console output, while logging is used for generating structured log messages for debugging, monitoring, and analysis.\\n\\n2.Level of Detail: print provides ad-hoc information, while logging allows for categorized log levels (e.g., DEBUG, INFO, WARNING, ERROR, CRITICAL) to \\nprioritize and filter log messages based on severity.\\n\\n3.Control and Configuration: print lacks configurability, while logging offers extensive control over log formatting, destination, filtering, and\\n redirection without modifying the code.\\n\\n4.Production Readiness: Logging is suitable for real-world applications due to its professionalism, standardization, and scalability.\\n print statements are not recommended for production environments.\\n'"
            ],
            "application/vnd.google.colaboratory.intrinsic+json": {
              "type": "string"
            }
          },
          "metadata": {},
          "execution_count": 25
        }
      ]
    },
    {
      "cell_type": "code",
      "source": [
        "\"\"\"\n",
        "10. Write a Python program that logs a message to a file named \"app.log\" with the\n",
        "following requirements:\n",
        "● The log message should be \"Hello, World!\"\n",
        "● The log level should be set to \"INFO.\"\n",
        "● The log file should append new log entries without overwriting previous ones.\n",
        "\"\"\""
      ],
      "metadata": {
        "colab": {
          "base_uri": "https://localhost:8080/",
          "height": 53
        },
        "id": "OmHxwgR6vgRz",
        "outputId": "edefbf91-3bba-46cd-e37e-ef4f3d505a2b"
      },
      "execution_count": 26,
      "outputs": [
        {
          "output_type": "execute_result",
          "data": {
            "text/plain": [
              "'\\n10. Write a Python program that logs a message to a file named \"app.log\" with the\\nfollowing requirements:\\n● The log message should be \"Hello, World!\"\\n● The log level should be set to \"INFO.\"\\n● The log file should append new log entries without overwriting previous ones.\\n'"
            ],
            "application/vnd.google.colaboratory.intrinsic+json": {
              "type": "string"
            }
          },
          "metadata": {},
          "execution_count": 26
        }
      ]
    },
    {
      "cell_type": "code",
      "source": [
        "import logging\n",
        "\n",
        "\n",
        "logging.basicConfig(\n",
        "    filename=\"app.log\",\n",
        "    level=logging.INFO,\n",
        "    format=\"%(asctime)s - %(levelname)s - %(message)s\",\n",
        "    filemode=\"a\"\n",
        ")\n",
        "\n",
        "# Log the message\n",
        "logging.info(\"Hello, World!\")\n"
      ],
      "metadata": {
        "id": "k88BepFtwsU8"
      },
      "execution_count": 27,
      "outputs": []
    },
    {
      "cell_type": "code",
      "source": [
        "\"\"\"\n",
        "11. Create a Python program that logs an error message to the console and a file named\n",
        "\"errors.log\" if an exception occurs during the program's execution. The error\n",
        "message should include the exception type and a timestamp.\n",
        "\"\"\""
      ],
      "metadata": {
        "colab": {
          "base_uri": "https://localhost:8080/",
          "height": 53
        },
        "id": "feYWUXXXxYIy",
        "outputId": "cef8da9c-342b-48ac-cf3a-088fd2cf8b02"
      },
      "execution_count": 28,
      "outputs": [
        {
          "output_type": "execute_result",
          "data": {
            "text/plain": [
              "'\\n11. Create a Python program that logs an error message to the console and a file named\\n\"errors.log\" if an exception occurs during the program\\'s execution. The error\\nmessage should include the exception type and a timestamp.\\n'"
            ],
            "application/vnd.google.colaboratory.intrinsic+json": {
              "type": "string"
            }
          },
          "metadata": {},
          "execution_count": 28
        }
      ]
    },
    {
      "cell_type": "code",
      "source": [
        "import logging\n",
        "import traceback\n",
        "\n",
        "# Set up logging to console\n",
        "logging.basicConfig(level=logging.ERROR, format=\"%(asctime)s - %(levelname)s - %(message)s\")\n",
        "\n",
        "# Set up logging to file\n",
        "file_handler = logging.FileHandler(\"errors.log\")\n",
        "file_handler.setLevel(logging.ERROR)\n",
        "file_formatter = logging.Formatter(\"%(asctime)s - %(levelname)s - %(message)s\")\n",
        "file_handler.setFormatter(file_formatter)\n",
        "logging.getLogger().addHandler(file_handler)\n",
        "\n",
        "try:\n",
        "    # Code that may raise an exception\n",
        "    raise ValueError(\"An error occurred!\")\n",
        "except Exception as e:\n",
        "    # Log the exception\n",
        "    logging.error(f\"Exception: {type(e).__name__} - {e}\")\n",
        "    logging.error(traceback.format_exc())\n"
      ],
      "metadata": {
        "colab": {
          "base_uri": "https://localhost:8080/"
        },
        "id": "S8cnlobOxf6i",
        "outputId": "76ed503e-4aaf-4e6d-884e-5a21b1a2f835"
      },
      "execution_count": 29,
      "outputs": [
        {
          "output_type": "stream",
          "name": "stderr",
          "text": [
            "ERROR:root:Exception: ValueError - An error occurred!\n",
            "ERROR:root:Traceback (most recent call last):\n",
            "  File \"<ipython-input-29-037f64d7fe54>\", line 16, in <cell line: 14>\n",
            "    raise ValueError(\"An error occurred!\")\n",
            "ValueError: An error occurred!\n",
            "\n"
          ]
        }
      ]
    },
    {
      "cell_type": "code",
      "source": [],
      "metadata": {
        "id": "Fo-5Q2qHxqdr"
      },
      "execution_count": null,
      "outputs": []
    }
  ]
}